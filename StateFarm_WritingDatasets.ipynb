{
 "cells": [
  {
   "cell_type": "markdown",
   "id": "4414aa0f",
   "metadata": {},
   "source": [
    "There seems to be a data leakabe problem in the dataset : <br>\n",
    "https://towardsdatascience.com/distracted-driver-detection-using-deep-learning-e893715e02a4\n",
    "\n",
    "Going to split on subject instead of randomly. The problem is that the current files do not keep track of the subject\n",
    "\n",
    "Starting this notebook so that writing the hd5 files are all in one place\n"
   ]
  },
  {
   "cell_type": "code",
   "execution_count": 1,
   "id": "3b785093",
   "metadata": {},
   "outputs": [],
   "source": [
    "classes = ['c0', 'c1', 'c2', 'c3', 'c4', 'c5', 'c6', 'c7', 'c8', 'c9']\n",
    "#['c'+str(x) for x in range(10)]\n",
    "\n",
    "class_def = {'c0': 'safe driving',\n",
    "'c1': 'texting - right',\n",
    "'c2': 'talking on the phone - right',\n",
    "'c3': 'texting - left',\n",
    "'c4': 'talking on the phone - left',\n",
    "'c5': 'operating the radio',\n",
    "'c6': 'drinking',\n",
    "'c7': 'reaching behind',\n",
    "'c8': 'hair and makeup',\n",
    "'c9': 'talking to passenger'}"
   ]
  },
  {
   "cell_type": "code",
   "execution_count": null,
   "id": "f251952f",
   "metadata": {},
   "outputs": [],
   "source": []
  },
  {
   "cell_type": "code",
   "execution_count": 2,
   "id": "c0f1fa8f",
   "metadata": {},
   "outputs": [],
   "source": [
    "import os\n",
    "import re\n",
    "from pathlib import Path\n",
    "import numpy as np\n",
    "import pandas as pd\n",
    "from PIL import Image\n",
    "import matplotlib.pyplot as plt\n",
    "import random\n",
    "#Create and load dataset\n",
    "import h5py"
   ]
  },
  {
   "cell_type": "code",
   "execution_count": 3,
   "id": "348380ec",
   "metadata": {},
   "outputs": [],
   "source": [
    "# directories and filepaths\n",
    "data_dir = Path(os.path.join(os.getcwd(),'data'))\n",
    "base_dir = Path(os.path.join(data_dir, \"state-farm-distracted-driver-detection\"))\n",
    "img_folder = Path(os.path.join(base_dir, 'imgs'))\n",
    "train_imgs = Path(os.path.join(img_folder, 'train'))\n",
    "test_imgs = Path(os.path.join(img_folder, 'test'))\n",
    "# load the image lists\n",
    "df = pd.read_csv(os.path.join(base_dir, 'driver_imgs_list.csv'))\n",
    "sample_sub = pd.read_csv(os.path.join(base_dir, 'sample_submission.csv'))"
   ]
  },
  {
   "cell_type": "code",
   "execution_count": 4,
   "id": "394fcf1a",
   "metadata": {},
   "outputs": [],
   "source": [
    "# hdf5 filename \n",
    "\n",
    "# CHANGED FILENAMES TO INCLUDE GRAY OR COLOR \n",
    "#(THIS WILL BE A DIFF WITH THE LEAKAGE DATASETS THAT DIDNT HAVE DRIVER INFO)\n",
    "downscale = 2\n",
    "gray_scale=False\n",
    "if gray_scale:\n",
    "    hdf5_train = f\"StateFarm_Train_Gray_{downscale}X.h5\"\n",
    "else:\n",
    "    hdf5_train = f\"StateFarm_Train_Color_{downscale}X.h5\"\n",
    "\n",
    "if gray_scale:    \n",
    "    hdf5_test = f\"StateFarm_Test_Gray_{downscale}X.h5\"\n",
    "else:\n",
    "    hdf5_test = f\"StateFarm_Test_Color_{downscale}X.h5\"\n",
    "#\"StateFarm_Train_2X.h5\" # scaled down by 2\n",
    "#\"StateFarm_Train_5X.h5\" # scaled down by 5 \n",
    "\n",
    "#WRITE (REWRITE) IMAGE HD5 FILES? \n",
    "write_dataset = True\n",
    "write_testset = False "
   ]
  },
  {
   "cell_type": "code",
   "execution_count": 5,
   "id": "c693d8cc",
   "metadata": {},
   "outputs": [
    {
     "data": {
      "text/html": [
       "<div>\n",
       "<style scoped>\n",
       "    .dataframe tbody tr th:only-of-type {\n",
       "        vertical-align: middle;\n",
       "    }\n",
       "\n",
       "    .dataframe tbody tr th {\n",
       "        vertical-align: top;\n",
       "    }\n",
       "\n",
       "    .dataframe thead th {\n",
       "        text-align: right;\n",
       "    }\n",
       "</style>\n",
       "<table border=\"1\" class=\"dataframe\">\n",
       "  <thead>\n",
       "    <tr style=\"text-align: right;\">\n",
       "      <th></th>\n",
       "      <th>subject</th>\n",
       "      <th>classname</th>\n",
       "      <th>img</th>\n",
       "    </tr>\n",
       "  </thead>\n",
       "  <tbody>\n",
       "    <tr>\n",
       "      <th>0</th>\n",
       "      <td>p002</td>\n",
       "      <td>c0</td>\n",
       "      <td>img_44733.jpg</td>\n",
       "    </tr>\n",
       "    <tr>\n",
       "      <th>1</th>\n",
       "      <td>p002</td>\n",
       "      <td>c0</td>\n",
       "      <td>img_72999.jpg</td>\n",
       "    </tr>\n",
       "    <tr>\n",
       "      <th>2</th>\n",
       "      <td>p002</td>\n",
       "      <td>c0</td>\n",
       "      <td>img_25094.jpg</td>\n",
       "    </tr>\n",
       "    <tr>\n",
       "      <th>3</th>\n",
       "      <td>p002</td>\n",
       "      <td>c0</td>\n",
       "      <td>img_69092.jpg</td>\n",
       "    </tr>\n",
       "    <tr>\n",
       "      <th>4</th>\n",
       "      <td>p002</td>\n",
       "      <td>c0</td>\n",
       "      <td>img_92629.jpg</td>\n",
       "    </tr>\n",
       "  </tbody>\n",
       "</table>\n",
       "</div>"
      ],
      "text/plain": [
       "  subject classname            img\n",
       "0    p002        c0  img_44733.jpg\n",
       "1    p002        c0  img_72999.jpg\n",
       "2    p002        c0  img_25094.jpg\n",
       "3    p002        c0  img_69092.jpg\n",
       "4    p002        c0  img_92629.jpg"
      ]
     },
     "execution_count": 5,
     "metadata": {},
     "output_type": "execute_result"
    }
   ],
   "source": [
    "df.head()"
   ]
  },
  {
   "cell_type": "code",
   "execution_count": 6,
   "id": "f3f30293",
   "metadata": {},
   "outputs": [
    {
     "data": {
      "text/plain": [
       "p021    1237\n",
       "p022    1233\n",
       "p024    1226\n",
       "p026    1196\n",
       "p016    1078\n",
       "p066    1034\n",
       "p049    1011\n",
       "p051     920\n",
       "p014     876\n",
       "p015     875\n",
       "p035     848\n",
       "p047     835\n",
       "p081     823\n",
       "p012     823\n",
       "p064     820\n",
       "p075     814\n",
       "p061     809\n",
       "p056     794\n",
       "p050     790\n",
       "p052     740\n",
       "p002     725\n",
       "p045     724\n",
       "p039     651\n",
       "p041     605\n",
       "p042     591\n",
       "p072     346\n",
       "Name: subject, dtype: int64"
      ]
     },
     "execution_count": 6,
     "metadata": {},
     "output_type": "execute_result"
    }
   ],
   "source": [
    "# Look at number of images by subject\n",
    "#plt.hist(df.subject.value_counts());\n",
    "df.subject.value_counts()\n",
    "\n",
    "# There are a few subjects that have a lot more instances than the others "
   ]
  },
  {
   "cell_type": "code",
   "execution_count": 7,
   "id": "5fbf2a87",
   "metadata": {},
   "outputs": [
    {
     "data": {
      "text/html": [
       "<div>\n",
       "<style scoped>\n",
       "    .dataframe tbody tr th:only-of-type {\n",
       "        vertical-align: middle;\n",
       "    }\n",
       "\n",
       "    .dataframe tbody tr th {\n",
       "        vertical-align: top;\n",
       "    }\n",
       "\n",
       "    .dataframe thead th {\n",
       "        text-align: right;\n",
       "    }\n",
       "</style>\n",
       "<table border=\"1\" class=\"dataframe\">\n",
       "  <thead>\n",
       "    <tr style=\"text-align: right;\">\n",
       "      <th></th>\n",
       "      <th>subject</th>\n",
       "      <th>classname</th>\n",
       "      <th>img</th>\n",
       "      <th>driver</th>\n",
       "      <th>class</th>\n",
       "    </tr>\n",
       "  </thead>\n",
       "  <tbody>\n",
       "    <tr>\n",
       "      <th>0</th>\n",
       "      <td>p002</td>\n",
       "      <td>c0</td>\n",
       "      <td>img_44733.jpg</td>\n",
       "      <td>2</td>\n",
       "      <td>0</td>\n",
       "    </tr>\n",
       "    <tr>\n",
       "      <th>1</th>\n",
       "      <td>p002</td>\n",
       "      <td>c0</td>\n",
       "      <td>img_72999.jpg</td>\n",
       "      <td>2</td>\n",
       "      <td>0</td>\n",
       "    </tr>\n",
       "    <tr>\n",
       "      <th>2</th>\n",
       "      <td>p002</td>\n",
       "      <td>c0</td>\n",
       "      <td>img_25094.jpg</td>\n",
       "      <td>2</td>\n",
       "      <td>0</td>\n",
       "    </tr>\n",
       "    <tr>\n",
       "      <th>3</th>\n",
       "      <td>p002</td>\n",
       "      <td>c0</td>\n",
       "      <td>img_69092.jpg</td>\n",
       "      <td>2</td>\n",
       "      <td>0</td>\n",
       "    </tr>\n",
       "    <tr>\n",
       "      <th>4</th>\n",
       "      <td>p002</td>\n",
       "      <td>c0</td>\n",
       "      <td>img_92629.jpg</td>\n",
       "      <td>2</td>\n",
       "      <td>0</td>\n",
       "    </tr>\n",
       "  </tbody>\n",
       "</table>\n",
       "</div>"
      ],
      "text/plain": [
       "  subject classname            img  driver  class\n",
       "0    p002        c0  img_44733.jpg       2      0\n",
       "1    p002        c0  img_72999.jpg       2      0\n",
       "2    p002        c0  img_25094.jpg       2      0\n",
       "3    p002        c0  img_69092.jpg       2      0\n",
       "4    p002        c0  img_92629.jpg       2      0"
      ]
     },
     "execution_count": 7,
     "metadata": {},
     "output_type": "execute_result"
    }
   ],
   "source": [
    "# conversion from string to array\n",
    "str2int = lambda istr: int(re.findall('\\d+', istr)[0])\n",
    "\n",
    "df['driver'] =  df.subject.apply(str2int) # SID FOR SUBJECT ID\n",
    "df['class'] = df.classname.apply(str2int) # \n",
    "df.head()"
   ]
  },
  {
   "cell_type": "code",
   "execution_count": 8,
   "id": "43694e14",
   "metadata": {},
   "outputs": [],
   "source": [
    "# TODO : REMOVE WRITING FILES FROM SVM NOTEBOOK AND MAKE SVM NOTEBOOK ONLY HAVE PCA AND SVM\n",
    "#\n",
    "def rescale_image(filepath, resize_scale=2, gray_scale=True):\n",
    "  '''\n",
    "  Loads image, converts to grayscale, downsamples by resize_scale and returns a \n",
    "  To keep color image, set gray_scale = True \n",
    "  To keep the original size of the image, set resize_scale= 1\n",
    "  '''\n",
    "  im = Image.open(filepath)\n",
    "  \n",
    "  if gray_scale:\n",
    "    im = im.convert('L')\n",
    "    \n",
    "  if resize_scale > 1:\n",
    "    resize_dims = tuple([int(x/resize_scale) for x in (im.size)])\n",
    "    im = im.resize(resize_dims)\n",
    "    \n",
    "  return np.expand_dims(np.array(im), axis=0)\n"
   ]
  },
  {
   "cell_type": "code",
   "execution_count": 9,
   "id": "535ade71",
   "metadata": {},
   "outputs": [
    {
     "name": "stdout",
     "output_type": "stream",
     "text": [
      "adding img_44733.jpg to list, i=0\n",
      "adding img_98718.jpg to list, i=1000\n",
      "adding img_29411.jpg to list, i=2000\n",
      "adding img_69390.jpg to list, i=3000\n",
      "adding img_39358.jpg to list, i=4000\n",
      "adding img_93192.jpg to list, i=5000\n",
      "adding img_29731.jpg to list, i=6000\n",
      "adding img_23637.jpg to list, i=7000\n",
      "adding img_5799.jpg to list, i=8000\n",
      "adding img_36717.jpg to list, i=9000\n",
      "adding img_30792.jpg to list, i=10000\n",
      "adding img_55189.jpg to list, i=11000\n",
      "adding img_99251.jpg to list, i=12000\n",
      "adding img_47864.jpg to list, i=13000\n",
      "adding img_63132.jpg to list, i=14000\n",
      "adding img_52243.jpg to list, i=15000\n",
      "adding img_25404.jpg to list, i=16000\n",
      "adding img_99194.jpg to list, i=17000\n",
      "adding img_43583.jpg to list, i=18000\n",
      "adding img_17664.jpg to list, i=19000\n",
      "adding img_54984.jpg to list, i=20000\n",
      "adding img_59295.jpg to list, i=21000\n",
      "adding img_63401.jpg to list, i=22000\n"
     ]
    }
   ],
   "source": [
    "if write_dataset: \n",
    "    # READ AND CONCATENATE TRAINING DATA\n",
    "    # NOTE: USING NP ARRAYS IS MUCH SLOWER THAN DOING A LIST\n",
    "    # For training images data set (could probably parallelize this but...)\n",
    "    classnames = df['classname'].values\n",
    "    c = df['class'].values\n",
    "    driver = df['driver'].values\n",
    "    filenames = df['img'].values\n",
    "    image_list = [] # make a list, then concatenate\n",
    "    for i, file in enumerate(filenames):\n",
    "        if i%1000  == 0:    \n",
    "            print(f\"adding {file} to list, i={i}\") \n",
    "        path_to_file = Path(os.path.join(train_imgs, classnames[i], file))        \n",
    "        image_list.append(rescale_image(path_to_file, resize_scale = downscale, gray_scale=gray_scale)) \n",
    "    # concatenate images into singe nd array  \n",
    "    images = np.concatenate(image_list, axis= 0)\n",
    "    #writehdf5(data_dir, hdf5_train, images, labels)"
   ]
  },
  {
   "cell_type": "code",
   "execution_count": 10,
   "id": "64e5e5ee",
   "metadata": {},
   "outputs": [
    {
     "name": "stdout",
     "output_type": "stream",
     "text": [
      "Writing HDF5 file\n"
     ]
    }
   ],
   "source": [
    "if write_dataset: \n",
    "    print('Writing HDF5 file')\n",
    "    # Create a new HDF5 file\n",
    "    file = h5py.File(\n",
    "        data_dir / hdf5_train, \"w\"\n",
    "    )\n",
    "\n",
    "    # Create a dataset in the file\n",
    "    image_set = file.create_dataset(\n",
    "        \"images\",\n",
    "        np.shape(images),\n",
    "        h5py.h5t.STD_U8BE,\n",
    "        data=images,\n",
    "    )\n",
    "    classnames_set = file.create_dataset(\n",
    "        \"c\",\n",
    "        np.shape(c),\n",
    "        h5py.h5t.STD_U8BE,\n",
    "        data=c,\n",
    "    )    \n",
    "    \n",
    "    driver_set = file.create_dataset(\n",
    "        \"driver\",\n",
    "        np.shape(driver),\n",
    "        h5py.h5t.STD_U8BE,\n",
    "        data=driver,\n",
    "    ) \n",
    "    \n",
    "    file_set = file.create_dataset(\"fname\", data=np.array(filenames, dtype='S'))\n",
    "    \n",
    "    file.close()      "
   ]
  },
  {
   "cell_type": "code",
   "execution_count": 14,
   "id": "47ee7b05",
   "metadata": {},
   "outputs": [
    {
     "data": {
      "text/plain": [
       "(22424, 240, 320, 3)"
      ]
     },
     "execution_count": 14,
     "metadata": {},
     "output_type": "execute_result"
    }
   ],
   "source": [
    "images.shape"
   ]
  },
  {
   "cell_type": "code",
   "execution_count": null,
   "id": "c00ba154",
   "metadata": {},
   "outputs": [],
   "source": []
  }
 ],
 "metadata": {
  "kernelspec": {
   "display_name": "fourthbrain",
   "language": "python",
   "name": "fourthbrain"
  },
  "language_info": {
   "codemirror_mode": {
    "name": "ipython",
    "version": 3
   },
   "file_extension": ".py",
   "mimetype": "text/x-python",
   "name": "python",
   "nbconvert_exporter": "python",
   "pygments_lexer": "ipython3",
   "version": "3.9.6"
  }
 },
 "nbformat": 4,
 "nbformat_minor": 5
}
