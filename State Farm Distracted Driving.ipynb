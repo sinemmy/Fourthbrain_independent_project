{
 "cells": [
  {
   "cell_type": "markdown",
   "id": "68e4870e",
   "metadata": {},
   "source": [
    "### State Farm Distracted Driving: Classifying images based on driver safety\n",
    "\n",
    "See Also: https://www.kaggle.com/praveenmaripeti/state-farm-distracted-driver-detection-with-keras for NN implemntation with tensorflow\n",
    "\n",
    "Distracted driving causes a lot of accidents and is 100% preventable. Machine learning algorithms can gage driver safety using 2D dashboard camera images of drivers. The goal is to classify these images based on driver's behavior (cell phone, texting, etc). \n",
    "\n",
    "10 behaviors are classfied as follows:"
   ]
  },
  {
   "cell_type": "code",
   "execution_count": 6,
   "id": "d35cb65a",
   "metadata": {},
   "outputs": [],
   "source": [
    "classes = ['c0', 'c1', 'c2', 'c3', 'c4', 'c5', 'c6', 'c7', 'c8', 'c9']\n",
    "#['c'+str(x) for x in range(10)]\n",
    "\n",
    "class_def = {'c0': 'safe driving',\n",
    "'c1': 'texting - right',\n",
    "'c2': 'talking on the phone - right',\n",
    "'c3': 'texting - left',\n",
    "'c4': 'talking on the phone - left',\n",
    "'c5': 'operating the radio',\n",
    "'c6': 'drinking',\n",
    "'c7': 'reaching behind',\n",
    "'c8': 'hair and makeup',\n",
    "'c9': 'talking to passenger'}"
   ]
  },
  {
   "cell_type": "code",
   "execution_count": null,
   "id": "733126c3",
   "metadata": {},
   "outputs": [],
   "source": [
    "# Import Relevant Libaries\n",
    "import os, shutil\n",
    "import numpy as np\n",
    "import pandas as pd\n",
    "from PIL import Image\n",
    "import matplotlib.pyplot as plt\n",
    "import random\n",
    "\n",
    "#SVM\n",
    "from sklearn.svm import SVC\n"
   ]
  },
  {
   "cell_type": "code",
   "execution_count": 7,
   "id": "192cb6d3",
   "metadata": {},
   "outputs": [],
   "source": [
    "# Some parameters\n",
    "#overwrite image data? \n",
    "data_overwrite = False"
   ]
  },
  {
   "cell_type": "code",
   "execution_count": null,
   "id": "6965884b",
   "metadata": {},
   "outputs": [],
   "source": []
  }
 ],
 "metadata": {
  "kernelspec": {
   "display_name": "fourthbrain",
   "language": "python",
   "name": "fourthbrain"
  },
  "language_info": {
   "codemirror_mode": {
    "name": "ipython",
    "version": 3
   },
   "file_extension": ".py",
   "mimetype": "text/x-python",
   "name": "python",
   "nbconvert_exporter": "python",
   "pygments_lexer": "ipython3",
   "version": "3.9.6"
  }
 },
 "nbformat": 4,
 "nbformat_minor": 5
}
