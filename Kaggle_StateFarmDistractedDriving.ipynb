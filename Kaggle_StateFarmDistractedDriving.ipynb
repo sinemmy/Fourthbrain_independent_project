{
 "cells": [
  {
   "cell_type": "markdown",
   "metadata": {
    "id": "DMXhfF6WbS3X"
   },
   "source": [
    "Change directory and mount drive"
   ]
  },
  {
   "cell_type": "code",
   "execution_count": 1,
   "metadata": {
    "colab": {
     "base_uri": "https://localhost:8080/"
    },
    "executionInfo": {
     "elapsed": 19973,
     "status": "ok",
     "timestamp": 1628610263153,
     "user": {
      "displayName": "sinem erisken",
      "photoUrl": "",
      "userId": "10098141094175015247"
     },
     "user_tz": 300
    },
    "id": "YSq91O1dQs86",
    "outputId": "2225f3ee-b540-4e8e-a513-a0415fd0fec1"
   },
   "outputs": [],
   "source": [
    "#from google.colab import drive\n",
    "#drive.mount('/content/drive')"
   ]
  },
  {
   "cell_type": "code",
   "execution_count": 2,
   "metadata": {
    "executionInfo": {
     "elapsed": 126,
     "status": "ok",
     "timestamp": 1628610471347,
     "user": {
      "displayName": "sinem erisken",
      "photoUrl": "",
      "userId": "10098141094175015247"
     },
     "user_tz": 300
    },
    "id": "vuXNuRpObQol"
   },
   "outputs": [],
   "source": [
    "# cd into the independent project folder\n",
    "#cd /content/drive/My Drive/FourthBrain/independent project"
   ]
  },
  {
   "cell_type": "code",
   "execution_count": 3,
   "metadata": {
    "id": "rc3tyjfTVENF"
   },
   "outputs": [],
   "source": [
    "# TRIED TO DOWNLOAD THE DATA SET DIRECTLY FROM KAGGLE BUT IT KEPT ON TIMING OUT\n",
    "\n",
    "# ! pip install -q kaggle\n",
    "#from google.colab import files\n",
    "#files.upload()\n",
    "#! mkdir ~/.kaggle (using the one in .kaggle instead)\n",
    "#! cp kaggle.json  ~/.kaggle/\n",
    "# ! chmod 600 ~/.kaggle/kaggle.json\n",
    "# ! kaggle datasets list\n",
    "\n",
    "#! mv *.jpg data/\n",
    "#!cd data\n",
    "#!kaggle competitions download -c state-farm-distracted-driver-detection \n",
    "# download the data (about 4GB... good thing i have 100GB), but keeps on timing out so downloading from website\n",
    "# updating kaggle (also how do i run in an venv instead of from root?)\n",
    "#!pip uninstall -y kaggle\n",
    "#!pip install --upgrade pip\n",
    "#!pip install kaggle==1.5.6\n",
    "\n",
    "\n",
    "# downloaded zip\n",
    "#!kaggle competitions download -c state-farm-distracted-driver-detection  \n",
    "# unzip file: \n",
    "# !unzip \"/content/drive/My Drive/FourthBrain/independent project/data/state-farm-distracted-driver-detection.zip\" -d \"/content/drive/My Drive/FourthBrain/independent project/data/statefarm\"\n",
    "# manually removed zip file from drive\n",
    "# NOT SHOWING UP!!"
   ]
  },
  {
   "cell_type": "markdown",
   "metadata": {},
   "source": [
    "Running locally, files are in the same folder"
   ]
  },
  {
   "cell_type": "code",
   "execution_count": 1,
   "metadata": {},
   "outputs": [],
   "source": [
    "dataFolder = 'data/state-farm-distracted-driver-detection/'\n",
    "# Note: data folder not uploaded to github"
   ]
  },
  {
   "cell_type": "markdown",
   "metadata": {
    "id": "rhw_2Ds8tg1s"
   },
   "source": [
    "Trying to familiarize myself with the data:\n",
    "\n",
    "1. Looking at csv file with all the labels for training data\n",
    "2. Adding filepath of images to dataframe\n"
   ]
  },
  {
   "cell_type": "code",
   "execution_count": 2,
   "metadata": {
    "executionInfo": {
     "elapsed": 94,
     "status": "ok",
     "timestamp": 1628610311249,
     "user": {
      "displayName": "sinem erisken",
      "photoUrl": "",
      "userId": "10098141094175015247"
     },
     "user_tz": 300
    },
    "id": "XWcZ9WJcXFcK"
   },
   "outputs": [],
   "source": [
    "import pandas as pd\n",
    "import numpy as np"
   ]
  },
  {
   "cell_type": "code",
   "execution_count": 3,
   "metadata": {
    "colab": {
     "base_uri": "https://localhost:8080/"
    },
    "executionInfo": {
     "elapsed": 132,
     "status": "ok",
     "timestamp": 1628613026213,
     "user": {
      "displayName": "sinem erisken",
      "photoUrl": "",
      "userId": "10098141094175015247"
     },
     "user_tz": 300
    },
    "id": "dNvEL5YKXIZI",
    "outputId": "841fad0a-3141-4678-f171-7da8158b25e1"
   },
   "outputs": [
    {
     "name": "stdout",
     "output_type": "stream",
     "text": [
      "      subject classname            img\n",
      "0        p002        c0  img_44733.jpg\n",
      "1        p002        c0  img_72999.jpg\n",
      "2        p002        c0  img_25094.jpg\n",
      "3        p002        c0  img_69092.jpg\n",
      "4        p002        c0  img_92629.jpg\n",
      "...       ...       ...            ...\n",
      "22419    p081        c9  img_56936.jpg\n",
      "22420    p081        c9  img_46218.jpg\n",
      "22421    p081        c9  img_25946.jpg\n",
      "22422    p081        c9  img_67850.jpg\n",
      "22423    p081        c9   img_9684.jpg\n",
      "\n",
      "[22424 rows x 3 columns]\n"
     ]
    }
   ],
   "source": [
    "csv_filename = 'data/state-farm-distracted-driver-detection/driver_imgs_list.csv'\n",
    "df = pd.read_csv(csv_filename)\n",
    "print(df)"
   ]
  },
  {
   "cell_type": "markdown",
   "metadata": {
    "id": "dfia30ybvuKY"
   },
   "source": [
    "Get image paths and also change the class name to an integer"
   ]
  },
  {
   "cell_type": "code",
   "execution_count": 4,
   "metadata": {
    "colab": {
     "base_uri": "https://localhost:8080/",
     "height": 206
    },
    "executionInfo": {
     "elapsed": 146,
     "status": "ok",
     "timestamp": 1628614297238,
     "user": {
      "displayName": "sinem erisken",
      "photoUrl": "",
      "userId": "10098141094175015247"
     },
     "user_tz": 300
    },
    "id": "yV8iwZgvXXaB",
    "outputId": "e8e65a62-b779-42c1-9fa1-feff5e78af9b"
   },
   "outputs": [
    {
     "data": {
      "text/html": [
       "<div>\n",
       "<style scoped>\n",
       "    .dataframe tbody tr th:only-of-type {\n",
       "        vertical-align: middle;\n",
       "    }\n",
       "\n",
       "    .dataframe tbody tr th {\n",
       "        vertical-align: top;\n",
       "    }\n",
       "\n",
       "    .dataframe thead th {\n",
       "        text-align: right;\n",
       "    }\n",
       "</style>\n",
       "<table border=\"1\" class=\"dataframe\">\n",
       "  <thead>\n",
       "    <tr style=\"text-align: right;\">\n",
       "      <th></th>\n",
       "      <th>subject</th>\n",
       "      <th>classname</th>\n",
       "      <th>img</th>\n",
       "      <th>img_path</th>\n",
       "      <th>class</th>\n",
       "    </tr>\n",
       "  </thead>\n",
       "  <tbody>\n",
       "    <tr>\n",
       "      <th>0</th>\n",
       "      <td>p002</td>\n",
       "      <td>c0</td>\n",
       "      <td>img_44733.jpg</td>\n",
       "      <td>data/state-farm-distracted-driver-detection/im...</td>\n",
       "      <td>0</td>\n",
       "    </tr>\n",
       "    <tr>\n",
       "      <th>1</th>\n",
       "      <td>p002</td>\n",
       "      <td>c0</td>\n",
       "      <td>img_72999.jpg</td>\n",
       "      <td>data/state-farm-distracted-driver-detection/im...</td>\n",
       "      <td>0</td>\n",
       "    </tr>\n",
       "    <tr>\n",
       "      <th>2</th>\n",
       "      <td>p002</td>\n",
       "      <td>c0</td>\n",
       "      <td>img_25094.jpg</td>\n",
       "      <td>data/state-farm-distracted-driver-detection/im...</td>\n",
       "      <td>0</td>\n",
       "    </tr>\n",
       "    <tr>\n",
       "      <th>3</th>\n",
       "      <td>p002</td>\n",
       "      <td>c0</td>\n",
       "      <td>img_69092.jpg</td>\n",
       "      <td>data/state-farm-distracted-driver-detection/im...</td>\n",
       "      <td>0</td>\n",
       "    </tr>\n",
       "    <tr>\n",
       "      <th>4</th>\n",
       "      <td>p002</td>\n",
       "      <td>c0</td>\n",
       "      <td>img_92629.jpg</td>\n",
       "      <td>data/state-farm-distracted-driver-detection/im...</td>\n",
       "      <td>0</td>\n",
       "    </tr>\n",
       "  </tbody>\n",
       "</table>\n",
       "</div>"
      ],
      "text/plain": [
       "  subject classname            img  \\\n",
       "0    p002        c0  img_44733.jpg   \n",
       "1    p002        c0  img_72999.jpg   \n",
       "2    p002        c0  img_25094.jpg   \n",
       "3    p002        c0  img_69092.jpg   \n",
       "4    p002        c0  img_92629.jpg   \n",
       "\n",
       "                                            img_path  class  \n",
       "0  data/state-farm-distracted-driver-detection/im...      0  \n",
       "1  data/state-farm-distracted-driver-detection/im...      0  \n",
       "2  data/state-farm-distracted-driver-detection/im...      0  \n",
       "3  data/state-farm-distracted-driver-detection/im...      0  \n",
       "4  data/state-farm-distracted-driver-detection/im...      0  "
      ]
     },
     "execution_count": 4,
     "metadata": {},
     "output_type": "execute_result"
    }
   ],
   "source": [
    "# images of safe driving (going to try to load the first image)\n",
    "#classname = 'c0'\n",
    "#filenames = df[df['classname'] == classname]['img']\n",
    "\n",
    "# training images are in a special folder structure\n",
    "def get_img_path(classname, filename):\n",
    "  return 'data/state-farm-distracted-driver-detection/imgs/train/' + classname + '/' + filename\n",
    "\n",
    "# make sure it works:\n",
    "# print(get_img_path(classname, filenames[1]))\n",
    "df['img_path'] = get_img_path(df['classname'], df['img'])\n",
    "df['class']=df['classname'].apply(lambda x: int(x[1]))\n",
    "df.head()"
   ]
  },
  {
   "cell_type": "markdown",
   "metadata": {
    "id": "nY0CUXE524o2"
   },
   "source": [
    "Experiment with reading in the image data (many ways to do this)\n",
    "\n",
    "https://www.pluralsight.com/guides/importing-image-data-into-numpy-arrays"
   ]
  },
  {
   "cell_type": "code",
   "execution_count": 8,
   "metadata": {
    "colab": {
     "base_uri": "https://localhost:8080/",
     "height": 36
    },
    "executionInfo": {
     "elapsed": 150,
     "status": "ok",
     "timestamp": 1628614306870,
     "user": {
      "displayName": "sinem erisken",
      "photoUrl": "",
      "userId": "10098141094175015247"
     },
     "user_tz": 300
    },
    "id": "znKbGz_Y6d-G",
    "outputId": "b798ae8a-d20e-4261-9c2a-4856094fcd12"
   },
   "outputs": [
    {
     "data": {
      "text/plain": [
       "'data/state-farm-distracted-driver-detection/imgs/train/c0/img_44733.jpg'"
      ]
     },
     "execution_count": 8,
     "metadata": {},
     "output_type": "execute_result"
    }
   ],
   "source": [
    "df.iloc[0,3] # first image in the dataframe"
   ]
  },
  {
   "cell_type": "code",
   "execution_count": 5,
   "metadata": {
    "executionInfo": {
     "elapsed": 2183,
     "status": "ok",
     "timestamp": 1628614329826,
     "user": {
      "displayName": "sinem erisken",
      "photoUrl": "",
      "userId": "10098141094175015247"
     },
     "user_tz": 300
    },
    "id": "HqftJLQX8zJz"
   },
   "outputs": [],
   "source": [
    "from keras.preprocessing.image import load_img\n",
    "from keras.preprocessing.image import img_to_array\n",
    "import matplotlib.pyplot as plt\n",
    "from matplotlib import image\n",
    "from PIL import Image"
   ]
  },
  {
   "cell_type": "code",
   "execution_count": 10,
   "metadata": {
    "executionInfo": {
     "elapsed": 20874,
     "status": "ok",
     "timestamp": 1628614555607,
     "user": {
      "displayName": "sinem erisken",
      "photoUrl": "",
      "userId": "10098141094175015247"
     },
     "user_tz": 300
    },
    "id": "e7PSfdKT9IM8"
   },
   "outputs": [],
   "source": [
    "#mydir = pwd\n",
    "im_test = load_img(df.iloc[0,3]) # unzipped files are not showing up in google drive... maybe wait a bit"
   ]
  },
  {
   "cell_type": "code",
   "execution_count": 11,
   "metadata": {
    "colab": {
     "base_uri": "https://localhost:8080/"
    },
    "executionInfo": {
     "elapsed": 145,
     "status": "ok",
     "timestamp": 1628614584362,
     "user": {
      "displayName": "sinem erisken",
      "photoUrl": "",
      "userId": "10098141094175015247"
     },
     "user_tz": 300
    },
    "id": "hFYMCq6G9eKq",
    "outputId": "f4d83a18-5faa-431f-8868-84d82e48b3f8"
   },
   "outputs": [
    {
     "data": {
      "text/plain": [
       "(480, 640, 3)"
      ]
     },
     "execution_count": 11,
     "metadata": {},
     "output_type": "execute_result"
    }
   ],
   "source": [
    "# try getting the test images instead \n",
    "#img_file = 'data/state-farm-distracted-driver-detection/imgs/test/img_13953.jpg'\n",
    "#imag\n",
    "#imtest = load_img(img_file) # this is taking forever!\n",
    "imarray = img_to_array(im_test)\n",
    "imarray.shape"
   ]
  },
  {
   "cell_type": "code",
   "execution_count": 12,
   "metadata": {
    "id": "XexXObZA9ujg"
   },
   "outputs": [],
   "source": [
    "# also try reading using PIL lib"
   ]
  },
  {
   "cell_type": "code",
   "execution_count": 13,
   "metadata": {
    "colab": {
     "background_save": true
    },
    "id": "V5EkMi8H9zEL"
   },
   "outputs": [
    {
     "data": {
      "image/png": "[encoded data removed]",
      "text/plain": [
       "<PIL.Image.Image image mode=L size=213x160 at 0x19D594EBC10>"
      ]
     },
     "execution_count": 13,
     "metadata": {},
     "output_type": "execute_result"
    }
   ],
   "source": [
    "gryscale = Image.open(df.iloc[0,3]).convert('L') # grayscale # Taking forever because there are thousands of files in the drive! \n",
    "# gryscale.resize((320,240)) # scale down by 1/2\n",
    "resize_dims = tuple([int(x/3) for x in (gryscale.size)])\n",
    "gryscale.resize(resize_dims) # note: not resizing in place, gryscale still original size"
   ]
  },
  {
   "cell_type": "code",
   "execution_count": 14,
   "metadata": {
    "colab": {
     "base_uri": "https://localhost:8080/"
    },
    "executionInfo": {
     "elapsed": 721,
     "status": "ok",
     "timestamp": 1628380880792,
     "user": {
      "displayName": "sinem erisken",
      "photoUrl": "",
      "userId": "10098141094175015247"
     },
     "user_tz": 300
    },
    "id": "Oj-8aXd-CNdE",
    "outputId": "e1a527ef-28c2-45e3-cf2d-8ccb73570339"
   },
   "outputs": [
    {
     "data": {
      "text/plain": [
       "array([[27, 28, 28, ..., 52, 51, 46]], dtype=uint8)"
      ]
     },
     "execution_count": 14,
     "metadata": {},
     "output_type": "execute_result"
    }
   ],
   "source": [
    "# convert to numpy array\n",
    "np.array(gryscale)\n",
    "# convert img to row vector\n",
    "np.array(gryscale).reshape(1,np.array(gryscale).size) "
   ]
  },
  {
   "cell_type": "markdown",
   "metadata": {
    "id": "w5P3xRa_-KRf"
   },
   "source": [
    "# Function to take in a filepath and output a rescaled image in grayscale as a vector"
   ]
  },
  {
   "cell_type": "code",
   "execution_count": 6,
   "metadata": {
    "id": "p-u6Lj7PDFj4"
   },
   "outputs": [],
   "source": [
    "def img2vec(filepath, resize_scale=3, gray_scale=True):\n",
    "  '''\n",
    "  Loads image, converts to grayscale, downsamples by resize_scale and returns a row vector \n",
    "  To keep color image, set gray_scale = True \n",
    "  To keep the original size of the image, set resize_scale= 1\n",
    "  '''\n",
    "  im = Image.open(filepath)\n",
    "  if gray_scale:\n",
    "    im = im.convert('L')\n",
    "  if resize_scale > 1:\n",
    "    resize_dims = tuple([int(x/resize_scale) for x in (im.size)])\n",
    "    im = im.resize(resize_dims)\n",
    "  return np.array(im).reshape(1, np.array(im).size)\n",
    "    "
   ]
  },
  {
   "cell_type": "markdown",
   "metadata": {},
   "source": [
    "Load all the test images into a numpy array"
   ]
  },
  {
   "cell_type": "code",
   "execution_count": 7,
   "metadata": {
    "id": "2SFEAZhbF_2-"
   },
   "outputs": [
    {
     "name": "stdout",
     "output_type": "stream",
     "text": [
      "adding data/state-farm-distracted-driver-detection/imgs/train/c0/img_44733.jpg, i=0\n",
      "adding data/state-farm-distracted-driver-detection/imgs/train/c3/img_98718.jpg, i=1000\n",
      "adding data/state-farm-distracted-driver-detection/imgs/train/c4/img_29411.jpg, i=2000\n",
      "adding data/state-farm-distracted-driver-detection/imgs/train/c6/img_69390.jpg, i=3000\n",
      "adding data/state-farm-distracted-driver-detection/imgs/train/c6/img_39358.jpg, i=4000\n",
      "adding data/state-farm-distracted-driver-detection/imgs/train/c4/img_93192.jpg, i=5000\n",
      "adding data/state-farm-distracted-driver-detection/imgs/train/c3/img_29731.jpg, i=6000\n",
      "adding data/state-farm-distracted-driver-detection/imgs/train/c1/img_23637.jpg, i=7000\n",
      "adding data/state-farm-distracted-driver-detection/imgs/train/c9/img_5799.jpg, i=8000\n",
      "adding data/state-farm-distracted-driver-detection/imgs/train/c7/img_36717.jpg, i=9000\n",
      "adding data/state-farm-distracted-driver-detection/imgs/train/c8/img_30792.jpg, i=10000\n",
      "adding data/state-farm-distracted-driver-detection/imgs/train/c3/img_55189.jpg, i=11000\n",
      "adding data/state-farm-distracted-driver-detection/imgs/train/c0/img_99251.jpg, i=12000\n",
      "adding data/state-farm-distracted-driver-detection/imgs/train/c3/img_47864.jpg, i=13000\n",
      "adding data/state-farm-distracted-driver-detection/imgs/train/c4/img_63132.jpg, i=14000\n",
      "adding data/state-farm-distracted-driver-detection/imgs/train/c5/img_52243.jpg, i=15000\n",
      "adding data/state-farm-distracted-driver-detection/imgs/train/c6/img_25404.jpg, i=16000\n",
      "adding data/state-farm-distracted-driver-detection/imgs/train/c0/img_99194.jpg, i=17000\n",
      "adding data/state-farm-distracted-driver-detection/imgs/train/c2/img_43583.jpg, i=18000\n",
      "adding data/state-farm-distracted-driver-detection/imgs/train/c4/img_17664.jpg, i=19000\n",
      "adding data/state-farm-distracted-driver-detection/imgs/train/c5/img_54984.jpg, i=20000\n",
      "adding data/state-farm-distracted-driver-detection/imgs/train/c2/img_59295.jpg, i=21000\n",
      "adding data/state-farm-distracted-driver-detection/imgs/train/c4/img_63401.jpg, i=22000\n"
     ]
    }
   ],
   "source": [
    "train_images = df['img_path'].values # all the filenames\n",
    "train_targets = df['class'].values   # all the class targets \n",
    "train_array = []\n",
    "# go through all the file names in a loop (should be a better way of doing this)\n",
    "# call img2vec to downscale images and convert them to vectors (stores in a list)\n",
    "# gives output every 1000 files, so that user knows it's working\n",
    "for i, img in enumerate(train_images):\n",
    "    if i%1000  == 0:\n",
    "        print(f\"adding {img}, i={i}\")\n",
    "    train_array.append(np.ravel(img2vec(img)))\n",
    "# convert list to numpy array    \n",
    "train_array = np.array(train_array)    "
   ]
  },
  {
   "cell_type": "code",
   "execution_count": 12,
   "metadata": {},
   "outputs": [
    {
     "data": {
      "text/plain": [
       "(22424, 34080)"
      ]
     },
     "execution_count": 12,
     "metadata": {},
     "output_type": "execute_result"
    }
   ],
   "source": [
    "train_array.shape"
   ]
  },
  {
   "cell_type": "code",
   "execution_count": 13,
   "metadata": {},
   "outputs": [
    {
     "data": {
      "text/plain": [
       "(22424,)"
      ]
     },
     "execution_count": 13,
     "metadata": {},
     "output_type": "execute_result"
    }
   ],
   "source": [
    "train_targets.shape"
   ]
  },
  {
   "cell_type": "markdown",
   "metadata": {},
   "source": [
    "test, train split for cross validation"
   ]
  },
  {
   "cell_type": "code",
   "execution_count": 12,
   "metadata": {},
   "outputs": [],
   "source": [
    "from sklearn.model_selection import train_test_split\n",
    "xtrain, xcv, ytrain, ycv = train_test_split(train_array, train_targets, test_size=0.3, random_state=42)"
   ]
  },
  {
   "cell_type": "code",
   "execution_count": 15,
   "metadata": {},
   "outputs": [
    {
     "data": {
      "text/plain": [
       "(15696, 34080)"
      ]
     },
     "execution_count": 15,
     "metadata": {},
     "output_type": "execute_result"
    }
   ],
   "source": [
    "xtrain.shape"
   ]
  },
  {
   "cell_type": "code",
   "execution_count": 28,
   "metadata": {},
   "outputs": [
    {
     "data": {
      "text/plain": [
       "(15696,)"
      ]
     },
     "execution_count": 28,
     "metadata": {},
     "output_type": "execute_result"
    }
   ],
   "source": [
    "ytrain.shape"
   ]
  },
  {
   "cell_type": "markdown",
   "metadata": {},
   "source": [
    "# make a pipeline : PCA, SVC \n",
    "\n",
    "(following week2: 2_4 SupportVectorMachines to start)"
   ]
  },
  {
   "cell_type": "code",
   "execution_count": 9,
   "metadata": {},
   "outputs": [],
   "source": [
    "from sklearn.svm import SVC\n",
    "from sklearn.decomposition import PCA\n",
    "from sklearn.pipeline import make_pipeline"
   ]
  },
  {
   "cell_type": "code",
   "execution_count": 11,
   "metadata": {},
   "outputs": [],
   "source": [
    "# initiate pipeline (using parameters from week 2: 2_4 Support Vector Machines to start)\n",
    "mypca = PCA(n_components=150, whiten=True, random_state= 42)\n",
    "mysvm = SVC(kernel='rbf', class_weight='balanced')\n",
    "model = make_pipeline(mypca, mysvm)"
   ]
  },
  {
   "cell_type": "markdown",
   "metadata": {},
   "source": [
    "# Do a grid search to find best parameters for SVM"
   ]
  },
  {
   "cell_type": "code",
   "execution_count": 22,
   "metadata": {},
   "outputs": [],
   "source": [
    "from sklearn.model_selection import GridSearchCV\n",
    "param_grid = {'svc__C': [1, 5, 10, 50],\n",
    "              'svc__gamma': [0.0001, 0.0005, 0.001, 0.005]}\n",
    "# Instantiate the grid search with the model and parameter grid\n",
    "grid = GridSearchCV(estimator=model, param_grid=param_grid)\n",
    "# Train the grid of models. Time this process. \n",
    "#cant figure out timing jupyter notebook ... "
   ]
  },
  {
   "cell_type": "code",
   "execution_count": 23,
   "metadata": {},
   "outputs": [
    {
     "data": {
      "text/plain": [
       "GridSearchCV(estimator=Pipeline(steps=[('pca',\n",
       "                                        PCA(n_components=150, random_state=42,\n",
       "                                            whiten=True)),\n",
       "                                       ('svc', SVC(class_weight='balanced'))]),\n",
       "             param_grid={'svc__C': [1, 5, 10, 50],\n",
       "                         'svc__gamma': [0.0001, 0.0005, 0.001, 0.005]})"
      ]
     },
     "execution_count": 23,
     "metadata": {},
     "output_type": "execute_result"
    }
   ],
   "source": [
    "grid.fit(xtrain, ytrain)\n",
    "# Print the parameters which yield the bes t model performance"
   ]
  },
  {
   "cell_type": "code",
   "execution_count": 24,
   "metadata": {},
   "outputs": [
    {
     "data": {
      "text/plain": [
       "{'svc__C': 10, 'svc__gamma': 0.005}"
      ]
     },
     "execution_count": 24,
     "metadata": {},
     "output_type": "execute_result"
    }
   ],
   "source": [
    "grid.best_params_"
   ]
  },
  {
   "cell_type": "code",
   "execution_count": 31,
   "metadata": {},
   "outputs": [],
   "source": [
    "param_grid2 = {'svc__C': [7, 10, 20],\n",
    "              'svc__gamma': [0.001, 0.005, 0.01]}\n",
    "grid2 = GridSearchCV(estimator=model, param_grid=param_grid2)"
   ]
  },
  {
   "cell_type": "code",
   "execution_count": 32,
   "metadata": {},
   "outputs": [
    {
     "data": {
      "text/plain": [
       "GridSearchCV(estimator=Pipeline(steps=[('pca',\n",
       "                                        PCA(n_components=150, random_state=42,\n",
       "                                            whiten=True)),\n",
       "                                       ('svc', SVC(class_weight='balanced'))]),\n",
       "             param_grid={'svc__C': [7, 10, 20],\n",
       "                         'svc__gamma': [0.001, 0.005, 0.01]})"
      ]
     },
     "execution_count": 32,
     "metadata": {},
     "output_type": "execute_result"
    }
   ],
   "source": [
    "grid2.fit(xtrain, ytrain)\n"
   ]
  },
  {
   "cell_type": "code",
   "execution_count": 33,
   "metadata": {},
   "outputs": [
    {
     "data": {
      "text/plain": [
       "{'svc__C': 7, 'svc__gamma': 0.01}"
      ]
     },
     "execution_count": 33,
     "metadata": {},
     "output_type": "execute_result"
    }
   ],
   "source": [
    "grid2.best_params_"
   ]
  },
  {
   "cell_type": "code",
   "execution_count": 35,
   "metadata": {},
   "outputs": [
    {
     "data": {
      "text/plain": [
       "{'mean_fit_time': array([34.42013206, 39.15212703, 43.99255443, 35.94668508, 37.33011456,\n",
       "        41.21972618, 35.76875534, 37.36642261, 40.4997695 ]),\n",
       " 'std_fit_time': array([4.88976216, 3.71937844, 1.87218547, 1.14039668, 0.15660696,\n",
       "        1.3441131 , 1.52747737, 0.37532507, 2.4986693 ]),\n",
       " 'mean_score_time': array([4.29605656, 4.89165106, 5.72707424, 3.27914796, 4.00371032,\n",
       "        4.83448143, 3.1603096 , 4.03573732, 4.76873941]),\n",
       " 'std_score_time': array([1.01394309, 0.68928955, 0.51309278, 0.03586058, 0.03286132,\n",
       "        0.23018535, 0.07270572, 0.0480063 , 0.19137199]),\n",
       " 'param_svc__C': masked_array(data=[7, 7, 7, 10, 10, 10, 20, 20, 20],\n",
       "              mask=[False, False, False, False, False, False, False, False,\n",
       "                    False],\n",
       "        fill_value='?',\n",
       "             dtype=object),\n",
       " 'param_svc__gamma': masked_array(data=[0.001, 0.005, 0.01, 0.001, 0.005, 0.01, 0.001, 0.005,\n",
       "                    0.01],\n",
       "              mask=[False, False, False, False, False, False, False, False,\n",
       "                    False],\n",
       "        fill_value='?',\n",
       "             dtype=object),\n",
       " 'params': [{'svc__C': 7, 'svc__gamma': 0.001},\n",
       "  {'svc__C': 7, 'svc__gamma': 0.005},\n",
       "  {'svc__C': 7, 'svc__gamma': 0.01},\n",
       "  {'svc__C': 10, 'svc__gamma': 0.001},\n",
       "  {'svc__C': 10, 'svc__gamma': 0.005},\n",
       "  {'svc__C': 10, 'svc__gamma': 0.01},\n",
       "  {'svc__C': 20, 'svc__gamma': 0.001},\n",
       "  {'svc__C': 20, 'svc__gamma': 0.005},\n",
       "  {'svc__C': 20, 'svc__gamma': 0.01}],\n",
       " 'split0_test_score': array([0.97993631, 0.99426752, 0.99394904, 0.98343949, 0.99426752,\n",
       "        0.99394904, 0.98566879, 0.99426752, 0.99394904]),\n",
       " 'split1_test_score': array([0.98120421, 0.99362854, 0.99362854, 0.98215992, 0.99394712,\n",
       "        0.99362854, 0.98789423, 0.99362854, 0.99362854]),\n",
       " 'split2_test_score': array([0.98152278, 0.99458426, 0.99426569, 0.98502708, 0.99458426,\n",
       "        0.99426569, 0.98789423, 0.99458426, 0.99426569]),\n",
       " 'split3_test_score': array([0.98311564, 0.99394712, 0.99426569, 0.98566422, 0.99394712,\n",
       "        0.99426569, 0.98884995, 0.99394712, 0.99426569]),\n",
       " 'split4_test_score': array([0.97992991, 0.99394712, 0.99458426, 0.98311564, 0.99394712,\n",
       "        0.99458426, 0.98470851, 0.99394712, 0.99458426]),\n",
       " 'mean_test_score': array([0.98114177, 0.99407491, 0.99413865, 0.98388127, 0.99413863,\n",
       "        0.99413865, 0.98700314, 0.99407491, 0.99413865]),\n",
       " 'std_test_score': array([0.00118042, 0.0003251 , 0.00032466, 0.00128345, 0.00025504,\n",
       "        0.00032466, 0.00155207, 0.0003251 , 0.00032466]),\n",
       " 'rank_test_score': array([9, 5, 1, 8, 4, 1, 7, 5, 1])}"
      ]
     },
     "execution_count": 35,
     "metadata": {},
     "output_type": "execute_result"
    }
   ],
   "source": [
    "grid2.cv_results_"
   ]
  },
  {
   "cell_type": "code",
   "execution_count": 36,
   "metadata": {},
   "outputs": [
    {
     "data": {
      "text/plain": [
       "{'mean_fit_time': array([53.3583673 , 41.9214962 , 39.25820985, 43.0474206 , 46.01005502,\n",
       "        37.29286909, 36.26876354, 37.34005256, 39.04579468, 35.933711  ,\n",
       "        35.29462371, 36.10464025, 36.89422722, 35.18856654, 35.14670253,\n",
       "        35.60599804]),\n",
       " 'std_fit_time': array([1.5029856 , 0.56173989, 1.20724126, 2.75533562, 3.16994416,\n",
       "        0.41878982, 0.29816882, 0.07454185, 0.31027594, 0.28300834,\n",
       "        0.09780072, 0.61545237, 1.337719  , 0.18266534, 0.36128707,\n",
       "        0.1190501 ]),\n",
       " 'mean_score_time': array([9.14877048, 6.99422317, 5.5768466 , 6.03125944, 7.68029232,\n",
       "        4.347014  , 3.70886655, 4.03073387, 5.81397328, 3.61297259,\n",
       "        3.20258555, 4.02444539, 3.71719012, 3.25894399, 2.97545481,\n",
       "        4.00314031]),\n",
       " 'std_score_time': array([0.40923743, 0.27361034, 0.03670896, 1.16443241, 0.89055151,\n",
       "        0.0458389 , 0.10428379, 0.03917354, 0.28519108, 0.04676823,\n",
       "        0.02872902, 0.04517886, 0.13408551, 0.67900511, 0.02857599,\n",
       "        0.03697716]),\n",
       " 'param_svc__C': masked_array(data=[1, 1, 1, 1, 5, 5, 5, 5, 10, 10, 10, 10, 50, 50, 50, 50],\n",
       "              mask=[False, False, False, False, False, False, False, False,\n",
       "                    False, False, False, False, False, False, False, False],\n",
       "        fill_value='?',\n",
       "             dtype=object),\n",
       " 'param_svc__gamma': masked_array(data=[0.0001, 0.0005, 0.001, 0.005, 0.0001, 0.0005, 0.001,\n",
       "                    0.005, 0.0001, 0.0005, 0.001, 0.005, 0.0001, 0.0005,\n",
       "                    0.001, 0.005],\n",
       "              mask=[False, False, False, False, False, False, False, False,\n",
       "                    False, False, False, False, False, False, False, False],\n",
       "        fill_value='?',\n",
       "             dtype=object),\n",
       " 'params': [{'svc__C': 1, 'svc__gamma': 0.0001},\n",
       "  {'svc__C': 1, 'svc__gamma': 0.0005},\n",
       "  {'svc__C': 1, 'svc__gamma': 0.001},\n",
       "  {'svc__C': 1, 'svc__gamma': 0.005},\n",
       "  {'svc__C': 5, 'svc__gamma': 0.0001},\n",
       "  {'svc__C': 5, 'svc__gamma': 0.0005},\n",
       "  {'svc__C': 5, 'svc__gamma': 0.001},\n",
       "  {'svc__C': 5, 'svc__gamma': 0.005},\n",
       "  {'svc__C': 10, 'svc__gamma': 0.0001},\n",
       "  {'svc__C': 10, 'svc__gamma': 0.0005},\n",
       "  {'svc__C': 10, 'svc__gamma': 0.001},\n",
       "  {'svc__C': 10, 'svc__gamma': 0.005},\n",
       "  {'svc__C': 50, 'svc__gamma': 0.0001},\n",
       "  {'svc__C': 50, 'svc__gamma': 0.0005},\n",
       "  {'svc__C': 50, 'svc__gamma': 0.001},\n",
       "  {'svc__C': 50, 'svc__gamma': 0.005}],\n",
       " 'split0_test_score': array([0.87770701, 0.93980892, 0.96273885, 0.99076433, 0.93471338,\n",
       "        0.96942675, 0.97770701, 0.99426752, 0.95191083, 0.97356688,\n",
       "        0.98343949, 0.99426752, 0.96847134, 0.98089172, 0.98566879,\n",
       "        0.99426752]),\n",
       " 'split1_test_score': array([0.87448232, 0.93532972, 0.96081555, 0.98916853, 0.92768398,\n",
       "        0.96750558, 0.97961134, 0.99362854, 0.94361262, 0.97260274,\n",
       "        0.98215992, 0.99394712, 0.96304556, 0.98152278, 0.98757566,\n",
       "        0.99362854]),\n",
       " 'split2_test_score': array([0.8770309 , 0.94170118, 0.96208984, 0.99012424, 0.93787831,\n",
       "        0.96909844, 0.97833705, 0.99426569, 0.95030264, 0.97451418,\n",
       "        0.98502708, 0.99458426, 0.96814272, 0.98438993, 0.98916853,\n",
       "        0.99458426]),\n",
       " 'split3_test_score': array([0.88021663, 0.94998407, 0.96559414, 0.99012424, 0.9461612 ,\n",
       "        0.97196559, 0.9824785 , 0.99394712, 0.95253265, 0.97801848,\n",
       "        0.98566422, 0.99394712, 0.96941701, 0.98534565, 0.98853138,\n",
       "        0.99394712]),\n",
       " 'split4_test_score': array([0.88117235, 0.93724116, 0.95762982, 0.99044282, 0.92800255,\n",
       "        0.96591271, 0.97738133, 0.99394712, 0.94456833, 0.97451418,\n",
       "        0.98311564, 0.99394712, 0.96495699, 0.98120421, 0.98502708,\n",
       "        0.99394712]),\n",
       " 'mean_test_score': array([0.87812184, 0.94081301, 0.96177364, 0.99012483, 0.93488788,\n",
       "        0.96878181, 0.97910305, 0.9940112 , 0.94858542, 0.97464329,\n",
       "        0.98388127, 0.99413863, 0.96680672, 0.98267086, 0.98719429,\n",
       "        0.99407491]),\n",
       " 'std_test_score': array([0.00237916, 0.00507405, 0.00259681, 0.00053378, 0.00686097,\n",
       "        0.0020255 , 0.00185213, 0.00023879, 0.00375376, 0.00183018,\n",
       "        0.00128345, 0.00025504, 0.00240571, 0.00182999, 0.00160342,\n",
       "        0.0003251 ]),\n",
       " 'rank_test_score': array([16, 14, 12,  4, 15, 10,  8,  3, 13,  9,  6,  1, 11,  7,  5,  2])}"
      ]
     },
     "execution_count": 36,
     "metadata": {},
     "output_type": "execute_result"
    }
   ],
   "source": [
    "grid.cv_results_"
   ]
  },
  {
   "cell_type": "markdown",
   "metadata": {},
   "source": [
    "Even though the second fit says that the best model is C= 7 and Gamma = .01, this is not much of an improvement from C=10 and Gamma = 0.005:\n",
    "\n",
    "C=7, Gamma=0.01 :  mean_test_score :  0.99413865 and std_test_score =  0.00032466\n",
    "\n",
    "C=10,Gamma=0.005: mean_test_score :  0.99413863 and std_test_score =  0.00025504\n",
    "\n",
    "The mean test score is better at the 8th significant digit, but the std_test_score isworse on the 1st significant digit. So picking :\n",
    "\n",
    "C=10, Gamma = 0.005\n",
    "\n"
   ]
  },
  {
   "cell_type": "code",
   "execution_count": 10,
   "metadata": {},
   "outputs": [],
   "source": [
    "mypca = PCA(n_components=150, whiten=True, random_state= 42)\n",
    "mysvm = SVC(kernel='rbf', C=10, gamma=0.005, class_weight='balanced')\n",
    "model = make_pipeline(mypca, mysvm)"
   ]
  },
  {
   "cell_type": "markdown",
   "metadata": {},
   "source": [
    "Fit the model on the training data"
   ]
  },
  {
   "cell_type": "code",
   "execution_count": 13,
   "metadata": {},
   "outputs": [
    {
     "data": {
      "text/plain": [
       "Pipeline(steps=[('pca', PCA(n_components=150, random_state=42, whiten=True)),\n",
       "                ('svc', SVC(C=10, class_weight='balanced', gamma=0.005))])"
      ]
     },
     "execution_count": 13,
     "metadata": {},
     "output_type": "execute_result"
    }
   ],
   "source": [
    "model.fit(xtrain, ytrain)"
   ]
  },
  {
   "cell_type": "markdown",
   "metadata": {},
   "source": [
    "get predictions for cross validation data"
   ]
  },
  {
   "cell_type": "code",
   "execution_count": 15,
   "metadata": {},
   "outputs": [],
   "source": [
    "ypred_cv = model.predict(xcv)"
   ]
  },
  {
   "cell_type": "markdown",
   "metadata": {},
   "source": [
    "see  how the model did on the cross validation data\n",
    "\n",
    "https://scikit-learn.org/stable/modules/model_evaluation.html#classification-metrics"
   ]
  },
  {
   "cell_type": "code",
   "execution_count": 17,
   "metadata": {},
   "outputs": [],
   "source": [
    "from sklearn.metrics import confusion_matrix, f1_score, multilabel_confusion_matrix, accuracy_score"
   ]
  },
  {
   "cell_type": "code",
   "execution_count": 23,
   "metadata": {},
   "outputs": [
    {
     "data": {
      "text/plain": [
       "array([[731,   0,   0,   1,   1,   0,   0,   0,   1,   1],\n",
       "       [  0, 693,   0,   0,   0,   0,   0,   1,   0,   0],\n",
       "       [  0,   0, 689,   0,   0,   0,   1,   0,   1,   0],\n",
       "       [  2,   0,   0, 703,   1,   0,   0,   0,   0,   0],\n",
       "       [  1,   2,   0,   1, 702,   0,   0,   0,   0,   0],\n",
       "       [  3,   0,   0,   0,   1, 689,   0,   0,   0,   0],\n",
       "       [  0,   0,   0,   0,   1,   0, 728,   0,   0,   0],\n",
       "       [  1,   0,   0,   0,   0,   0,   0, 592,   1,   0],\n",
       "       [  0,   0,   1,   0,   0,   0,   0,   1, 563,   3],\n",
       "       [  2,   1,   1,   0,   0,   0,   0,   0,   4, 604]], dtype=int64)"
      ]
     },
     "execution_count": 23,
     "metadata": {},
     "output_type": "execute_result"
    },
    {
     "data": {
      "image/png": "[encoded data removed]",
      "text/plain": [
       "<Figure size 432x288 with 2 Axes>"
      ]
     },
     "metadata": {
      "needs_background": "light"
     },
     "output_type": "display_data"
    }
   ],
   "source": [
    "import seaborn as sns\n",
    "sns.heatmap(confusion_matrix(ycv,ypred_cv))\n",
    "confusion_matrix(ycv, ypred_cv)"
   ]
  },
  {
   "cell_type": "code",
   "execution_count": 25,
   "metadata": {},
   "outputs": [
    {
     "data": {
      "text/plain": [
       "0.9949464922711059"
      ]
     },
     "execution_count": 25,
     "metadata": {},
     "output_type": "execute_result"
    }
   ],
   "source": [
    "accuracy_score(ycv, ypred_cv)"
   ]
  },
  {
   "cell_type": "code",
   "execution_count": 27,
   "metadata": {},
   "outputs": [
    {
     "data": {
      "text/plain": [
       "array([[[5984,    9],\n",
       "        [   4,  731]],\n",
       "\n",
       "       [[6031,    3],\n",
       "        [   1,  693]],\n",
       "\n",
       "       [[6035,    2],\n",
       "        [   2,  689]],\n",
       "\n",
       "       [[6020,    2],\n",
       "        [   3,  703]],\n",
       "\n",
       "       [[6018,    4],\n",
       "        [   4,  702]],\n",
       "\n",
       "       [[6035,    0],\n",
       "        [   4,  689]],\n",
       "\n",
       "       [[5998,    1],\n",
       "        [   1,  728]],\n",
       "\n",
       "       [[6132,    2],\n",
       "        [   2,  592]],\n",
       "\n",
       "       [[6153,    7],\n",
       "        [   5,  563]],\n",
       "\n",
       "       [[6112,    4],\n",
       "        [   8,  604]]], dtype=int64)"
      ]
     },
     "execution_count": 27,
     "metadata": {},
     "output_type": "execute_result"
    }
   ],
   "source": [
    "multilabel_confusion_matrix(ycv, ypred_cv)"
   ]
  },
  {
   "cell_type": "code",
   "execution_count": 32,
   "metadata": {},
   "outputs": [
    {
     "name": "stdout",
     "output_type": "stream",
     "text": [
      "0.9949464922711059\n",
      "0.9948191095816931\n"
     ]
    }
   ],
   "source": [
    "print(f1_score(ycv, ypred_cv, average='micro')) # total number across labels\n",
    "print(f1_score(ycv, ypred_cv,average='macro')) # averaged over labels"
   ]
  },
  {
   "cell_type": "markdown",
   "metadata": {},
   "source": [
    "# Seems to have done pretty good: \n",
    "# Now let's check out how the model learned\n",
    "look at how the model does for various training sizes \n",
    "(ie the Learning Curve)\n",
    "Let's define the model again:\n",
    "with new paramters : C=10, Gamma = 0.005"
   ]
  },
  {
   "cell_type": "code",
   "execution_count": 87,
   "metadata": {},
   "outputs": [],
   "source": [
    "mypca = PCA(n_components=150, whiten=True, random_state= 42)\n",
    "mysvm = SVC(kernel='rbf', C=10, gamma=0.005, class_weight='balanced')\n",
    "model = make_pipeline(mypca, mysvm)"
   ]
  },
  {
   "cell_type": "markdown",
   "metadata": {},
   "source": [
    "I want to make the training examples balanced so writing a function to take out a random subsample of X samples where X is divisible by the no of classes(10)"
   ]
  },
  {
   "cell_type": "code",
   "execution_count": null,
   "metadata": {},
   "outputs": [],
   "source": []
  },
  {
   "cell_type": "code",
   "execution_count": 77,
   "metadata": {},
   "outputs": [],
   "source": [
    "# Just for testing out\n",
    "# class_idx = np.where(ytrain == 4)\n",
    "# idx_idx = np.random.choice(class_idx[0], size = 2, replace = False)\n",
    "# ytrain[idx_idx];\n",
    "# xtrain[idx_idx,:];\n"
   ]
  },
  {
   "cell_type": "code",
   "execution_count": 80,
   "metadata": {},
   "outputs": [],
   "source": [
    "def random_subsample(X, y, n):\n",
    "    '''\n",
    "    randomly subsamples data from X,y, picking out n samples per class \n",
    "    '''\n",
    "    \n",
    "    def get_class_index(y,n,classId):\n",
    "        # gets n random indices for the class\n",
    "        class_idx = np.where(y == classId)\n",
    "        rand_idx = np.random.choice(class_idx[0], size=n, replace=False)\n",
    "        return rand_idx\n",
    "    \n",
    "    classes = np.unique(ytrain)\n",
    "    all_indices = [get_class_index(y,n,c) for c in classes]\n",
    "    all_indices = np.concatenate(all_indices)\n",
    "    return (X[all_indices,:], y[all_indices])\n",
    "        \n",
    "    "
   ]
  },
  {
   "cell_type": "markdown",
   "metadata": {},
   "source": [
    "Since we're going to be limited by the test/train split, let's split the data in 1/2 for this experiment"
   ]
  },
  {
   "cell_type": "code",
   "execution_count": 86,
   "metadata": {},
   "outputs": [],
   "source": [
    "xtrain, xtest, ytrain, ytest = train_test_split(train_array, train_targets, test_size=0.5, random_state=42)"
   ]
  },
  {
   "cell_type": "code",
   "execution_count": 98,
   "metadata": {},
   "outputs": [],
   "source": [
    "for n in [15]: #np.arange(1,700, 50): # needs to be at least 15 bc \n",
    "    xn, yn = random_subsample(xtrain, ytrain, n)\n",
    "    xn_cv, yn_cv = random_subsample(xtest, ytest, n)\n",
    "    this_model = model\n",
    "    this_model.fit(xn, yn)"
   ]
  },
  {
   "cell_type": "markdown",
   "metadata": {},
   "source": [
    "not sure... how to get out the J(theta), training loss ..."
   ]
  },
  {
   "cell_type": "markdown",
   "metadata": {},
   "source": [
    "# Scratch that, scikit learn has \"Learning Curve\""
   ]
  },
  {
   "cell_type": "code",
   "execution_count": 101,
   "metadata": {},
   "outputs": [],
   "source": [
    "# go back to 30% split, this way we can also do more tests on the \"test set\" still from the trianing data\n",
    "# note that the actual test set (which does not have labels) has still not entered the picture\n",
    "xtrain, xtest, ytrain, ytest = train_test_split(train_array, train_targets, test_size=0.3, random_state=42)"
   ]
  },
  {
   "cell_type": "code",
   "execution_count": 103,
   "metadata": {},
   "outputs": [],
   "source": [
    "from sklearn.model_selection import learning_curve"
   ]
  },
  {
   "cell_type": "code",
   "execution_count": null,
   "metadata": {},
   "outputs": [],
   "source": []
  }
 ],
 "metadata": {
  "colab": {
   "authorship_tag": "ABX9TyMrlUlbdWSgVnMloR0D4hPl",
   "collapsed_sections": [],
   "name": "Kaggle_StateFarmDistractedDriving.ipynb",
   "version": ""
  },
  "kernelspec": {
   "display_name": "Python 3 (ipykernel)",
   "language": "python",
   "name": "python3"
  },
  "language_info": {
   "codemirror_mode": {
    "name": "ipython",
    "version": 3
   },
   "file_extension": ".py",
   "mimetype": "text/x-python",
   "name": "python",
   "nbconvert_exporter": "python",
   "pygments_lexer": "ipython3",
   "version": "3.9.6"
  }
 },
 "nbformat": 4,
 "nbformat_minor": 1
}
