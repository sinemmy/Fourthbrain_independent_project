{
 "cells": [
  {
   "cell_type": "markdown",
   "id": "c0efc5d9",
   "metadata": {},
   "source": [
    "Useful code for converting arrays/images into datasets so that they can be used with tensorflow:\n",
    "\n",
    "https://stackoverflow.com/questions/64328135/how-to-convert-numpy-array-to-image-dataset"
   ]
  },
  {
   "cell_type": "code",
   "execution_count": null,
   "id": "3622731d",
   "metadata": {},
   "outputs": [],
   "source": []
  },
  {
   "cell_type": "code",
   "execution_count": null,
   "id": "ad7859e8",
   "metadata": {},
   "outputs": [],
   "source": []
  }
 ],
 "metadata": {
  "kernelspec": {
   "display_name": "fourthbrain",
   "language": "python",
   "name": "fourthbrain"
  },
  "language_info": {
   "codemirror_mode": {
    "name": "ipython",
    "version": 3
   },
   "file_extension": ".py",
   "mimetype": "text/x-python",
   "name": "python",
   "nbconvert_exporter": "python",
   "pygments_lexer": "ipython3",
   "version": "3.9.6"
  }
 },
 "nbformat": 4,
 "nbformat_minor": 5
}
