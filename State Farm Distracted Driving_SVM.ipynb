{
 "cells": [
  {
   "cell_type": "markdown",
   "id": "ef64eba7",
   "metadata": {},
   "source": [
    "### State Farm Distracted Driving: Classifying images based on driver safety\n",
    "\n",
    "See Also: https://www.kaggle.com/praveenmaripeti/state-farm-distracted-driver-detection-with-keras for NN implemntation with tensorflow\n",
    "\n",
    "Distracted driving causes a lot of accidents and is 100% preventable. Machine learning algorithms can gage driver safety using 2D dashboard camera images of drivers. The goal is to classify these images based on driver's behavior (cell phone, texting, etc). \n",
    "\n",
    "10 behaviors are classfied as follows:"
   ]
  },
  {
   "cell_type": "code",
   "execution_count": 1,
   "id": "121f32ec",
   "metadata": {},
   "outputs": [],
   "source": [
    "classes = ['c0', 'c1', 'c2', 'c3', 'c4', 'c5', 'c6', 'c7', 'c8', 'c9']\n",
    "#['c'+str(x) for x in range(10)]\n",
    "\n",
    "class_def = {'c0': 'safe driving',\n",
    "'c1': 'texting - right',\n",
    "'c2': 'talking on the phone - right',\n",
    "'c3': 'texting - left',\n",
    "'c4': 'talking on the phone - left',\n",
    "'c5': 'operating the radio',\n",
    "'c6': 'drinking',\n",
    "'c7': 'reaching behind',\n",
    "'c8': 'hair and makeup',\n",
    "'c9': 'talking to passenger'}"
   ]
  },
  {
   "cell_type": "code",
   "execution_count": 21,
   "id": "248e7a90",
   "metadata": {},
   "outputs": [],
   "source": [
    "# Import Relevant Libaries\n",
    "import os\n",
    "from pathlib import Path\n",
    "import numpy as np\n",
    "import pandas as pd\n",
    "from PIL import Image\n",
    "import matplotlib.pyplot as plt\n",
    "import random\n",
    "#Create and load dataset\n",
    "import h5py\n",
    "import pickle # for PCA\n",
    "#Train Test Split\n",
    "from sklearn.model_selection import train_test_split\n",
    "#SVM\n",
    "from sklearn.pipeline import make_pipeline\n",
    "from sklearn.decomposition import PCA\n",
    "from sklearn.svm import SVC\n",
    "from sklearn.model_selection import GridSearchCV\n",
    "\n",
    "#Learning Curve\n",
    "from sklearn.model_selection import learning_curve\n",
    "\n",
    "# Plotting\n",
    "import matplotlib.pyplot as plt\n",
    "import seaborn as sns\n",
    "\n",
    "# metrics\n",
    "from sklearn.metrics import confusion_matrix, classification_report \n",
    "from sklearn.metrics import accuracy_score as accuracy\n",
    "from sklearn.metrics import recall_score as recall\n",
    "from sklearn.metrics import precision_score as precision"
   ]
  },
  {
   "cell_type": "code",
   "execution_count": 3,
   "id": "e80c45ee",
   "metadata": {},
   "outputs": [],
   "source": [
    "# Some parameters for running the Notebook\n",
    "# hdf5 filename \n",
    "downscale = 5\n",
    "hdf5_train =\"StateFarm_Train_5X.h5\" # scaled down by 5\n",
    "#\"StateFarm_Train_2X.h5\" # scaled down by 2 \n",
    "#write image dataset? \n",
    "write_dataset = False\n",
    "\n",
    "#run grid search for svm hyperparameters?\n",
    "run_gridsearch = False\n",
    "\n",
    "#PCA/SVM\n",
    "runFullPCA = False\n",
    "computeLearningCurve = True\n",
    "PIK = \"pca.dat\"\n",
    "PIK2 = \"grid.dat\"\n",
    "PIK_learning = 'learning_xtrain_ytrain.dat'\n",
    "#learning_X_y_wtf.dat"
   ]
  },
  {
   "cell_type": "markdown",
   "id": "c6662d8b",
   "metadata": {},
   "source": [
    "### Make and/or  Load HDF5 dataset (training data) :\n",
    "See: https://realpython.com/storing-images-in-python/\n",
    "and the [github Page](https://github.com/realpython/materials/blob/storing-images/storing-images/storing_images.ipynb)\n"
   ]
  },
  {
   "cell_type": "code",
   "execution_count": 4,
   "id": "f432502d",
   "metadata": {},
   "outputs": [],
   "source": [
    "# directories and filepaths\n",
    "data_dir = Path(os.path.join(os.getcwd(),'data'))\n",
    "base_dir = Path(os.path.join(data_dir, \"state-farm-distracted-driver-detection\"))\n",
    "img_folder = Path(os.path.join(base_dir, 'imgs'))\n",
    "train_imgs = Path(os.path.join(img_folder, 'train'))\n",
    "test_imgs = Path(os.path.join(img_folder, 'test'))\n",
    "# load the image lists\n",
    "driver_imgs_list = pd.read_csv(os.path.join(base_dir, 'driver_imgs_list.csv'))\n",
    "sample_sub = pd.read_csv(os.path.join(base_dir, 'sample_submission.csv'))"
   ]
  },
  {
   "cell_type": "code",
   "execution_count": 5,
   "id": "65df1412",
   "metadata": {},
   "outputs": [
    {
     "data": {
      "text/html": [
       "<div>\n",
       "<style scoped>\n",
       "    .dataframe tbody tr th:only-of-type {\n",
       "        vertical-align: middle;\n",
       "    }\n",
       "\n",
       "    .dataframe tbody tr th {\n",
       "        vertical-align: top;\n",
       "    }\n",
       "\n",
       "    .dataframe thead th {\n",
       "        text-align: right;\n",
       "    }\n",
       "</style>\n",
       "<table border=\"1\" class=\"dataframe\">\n",
       "  <thead>\n",
       "    <tr style=\"text-align: right;\">\n",
       "      <th></th>\n",
       "      <th>subject</th>\n",
       "      <th>classname</th>\n",
       "      <th>img</th>\n",
       "    </tr>\n",
       "  </thead>\n",
       "  <tbody>\n",
       "    <tr>\n",
       "      <th>0</th>\n",
       "      <td>p002</td>\n",
       "      <td>c0</td>\n",
       "      <td>img_44733.jpg</td>\n",
       "    </tr>\n",
       "    <tr>\n",
       "      <th>1</th>\n",
       "      <td>p002</td>\n",
       "      <td>c0</td>\n",
       "      <td>img_72999.jpg</td>\n",
       "    </tr>\n",
       "    <tr>\n",
       "      <th>2</th>\n",
       "      <td>p002</td>\n",
       "      <td>c0</td>\n",
       "      <td>img_25094.jpg</td>\n",
       "    </tr>\n",
       "    <tr>\n",
       "      <th>3</th>\n",
       "      <td>p002</td>\n",
       "      <td>c0</td>\n",
       "      <td>img_69092.jpg</td>\n",
       "    </tr>\n",
       "    <tr>\n",
       "      <th>4</th>\n",
       "      <td>p002</td>\n",
       "      <td>c0</td>\n",
       "      <td>img_92629.jpg</td>\n",
       "    </tr>\n",
       "  </tbody>\n",
       "</table>\n",
       "</div>"
      ],
      "text/plain": [
       "  subject classname            img\n",
       "0    p002        c0  img_44733.jpg\n",
       "1    p002        c0  img_72999.jpg\n",
       "2    p002        c0  img_25094.jpg\n",
       "3    p002        c0  img_69092.jpg\n",
       "4    p002        c0  img_92629.jpg"
      ]
     },
     "execution_count": 5,
     "metadata": {},
     "output_type": "execute_result"
    }
   ],
   "source": [
    "# head of image list\n",
    "driver_imgs_list.head()"
   ]
  },
  {
   "cell_type": "code",
   "execution_count": 6,
   "id": "7dda9456",
   "metadata": {},
   "outputs": [],
   "source": [
    "def rescale_image(filepath, resize_scale=2, gray_scale=True):\n",
    "  '''\n",
    "  Loads image, converts to grayscale, downsamples by resize_scale and returns a \n",
    "  To keep color image, set gray_scale = True \n",
    "  To keep the original size of the image, set resize_scale= 1\n",
    "  '''\n",
    "  im = Image.open(filepath)\n",
    "  if gray_scale:\n",
    "    im = im.convert('L')\n",
    "  if resize_scale > 1:\n",
    "    resize_dims = tuple([int(x/resize_scale) for x in (im.size)])\n",
    "    im = im.resize(resize_dims)\n",
    "  # makes array 1 X Px X Py for easier concatenation  \n",
    "  return np.array(im).reshape(1, np.array(im).shape[0], np.array(im).shape[1])\n",
    "\n",
    "if write_dataset: \n",
    "    # NOTE: USING NP ARRAYS IS MUCH SLOWER THAN DOING A LIST\n",
    "    # For training images data set (could probably parallelize this but...)\n",
    "    classnames = driver_imgs_list['classname'].values\n",
    "    labels = [int(x[1]) for x in classnames]\n",
    "    filenames = driver_imgs_list['img'].values\n",
    "    image_list = [] # make a list, then concatenate\n",
    "    for i, file in enumerate(filenames):\n",
    "        if i%1000  == 0:    \n",
    "            print(f\"adding {file} to list, i={i}\") \n",
    "            \n",
    "        path_to_file = Path(os.path.join(train_imgs, classnames[i], file))        \n",
    "        image_list.append(rescale_image(path_to_file, resize_scale = downscale)) \n",
    "    # concatenate images into singe nd array  \n",
    "    images = np.concatenate(image_list, axis= 0)"
   ]
  },
  {
   "cell_type": "code",
   "execution_count": 7,
   "id": "c39445cf",
   "metadata": {},
   "outputs": [],
   "source": [
    "if write_dataset: \n",
    "    # each image is a row\n",
    "    # data = images.reshape(images.shape[0], images.shape[1]*images.shape[2])\n",
    "    \n",
    "    print('Writing HDF5 file')\n",
    "    # Create a new HDF5 file\n",
    "    file = h5py.File(\n",
    "        data_dir / hdf5_train, \"a\"\n",
    "    )\n",
    "\n",
    "    # Create a dataset in the file\n",
    "    image_set = file.create_dataset(\n",
    "        \"images\",\n",
    "        np.shape(images),\n",
    "        h5py.h5t.STD_U8BE,\n",
    "        data=images,\n",
    "    )\n",
    "    classnames_set = file.create_dataset(\n",
    "        \"labels\",\n",
    "        np.shape(labels),\n",
    "        h5py.h5t.STD_U8BE,\n",
    "        data=labels,\n",
    "    )    \n",
    "    \n",
    "    file.close()           "
   ]
  },
  {
   "cell_type": "markdown",
   "id": "005b7d71",
   "metadata": {},
   "source": [
    "Load hdf5 training dataset:\n"
   ]
  },
  {
   "cell_type": "code",
   "execution_count": 8,
   "id": "60dffb2c",
   "metadata": {},
   "outputs": [],
   "source": [
    "images, labels = [], []\n",
    "\n",
    "# Open the HDF5 file\n",
    "file = h5py.File(data_dir / hdf5_train, \"r+\")\n",
    "images = np.array(file[\"/images\"]).astype(\"uint8\")\n",
    "labels = np.array(file[\"/labels\"]).astype(\"uint8\")\n",
    "file.close()"
   ]
  },
  {
   "cell_type": "code",
   "execution_count": 9,
   "id": "7e680130",
   "metadata": {},
   "outputs": [],
   "source": [
    "image_size = images.shape\n",
    "# Resize images as vectors\n",
    "X = images.reshape(images.shape[0], images.shape[1]*images.shape[2])\n",
    "y = labels\n",
    "# Zero mean \n",
    "X = X - X.mean(axis=1).reshape(X.shape[0], 1)"
   ]
  },
  {
   "cell_type": "markdown",
   "id": "622a363c",
   "metadata": {},
   "source": [
    "Train, test split"
   ]
  },
  {
   "cell_type": "code",
   "execution_count": 10,
   "id": "34e8fa4e",
   "metadata": {},
   "outputs": [],
   "source": [
    "xtrain, xcv, ytrain, ycv = train_test_split(X, y, test_size=0.3, random_state=42)"
   ]
  },
  {
   "cell_type": "markdown",
   "id": "7fb64f69",
   "metadata": {},
   "source": [
    "### SVM: Preprocessing and model parameters"
   ]
  },
  {
   "cell_type": "code",
   "execution_count": 11,
   "id": "a1c57ca6",
   "metadata": {},
   "outputs": [
    {
     "name": "stdout",
     "output_type": "stream",
     "text": [
      "90% of the variance is explained by 160 components (unwhitened)\n",
      "90% of the variance is explained by 160 components (whitened)\n",
      "99% of the variance is explained by 2120 components\n"
     ]
    },
    {
     "data": {
      "image/png": "[encoded data removed]",
      "text/plain": [
       "<Figure size 432x288 with 1 Axes>"
      ]
     },
     "metadata": {
      "needs_background": "light"
     },
     "output_type": "display_data"
    }
   ],
   "source": [
    "#Going to run pca, let's see how many components we may actually need\n",
    "if runFullPCA:\n",
    "    pca = PCA(n_components=0.90,random_state=42, svd_solver='full') # 0.90 of the variance\n",
    "    pca99 = PCA(n_components=0.99,random_state=42, whiten=True, svd_solver='full') # 0.99 of the variance\n",
    "    pca90 = PCA(n_components=0.90,random_state=42, whiten=True, svd_solver='full') # 0.90 of the variance\n",
    "    pca99.fit(xtrain)\n",
    "    pca90.fit(xtrain)\n",
    "    # save output as pickle\n",
    "    with open(PIK, \"wb\") as f:\n",
    "        pickle.dump(pca, f)\n",
    "        pickle.dump(pca90,f)\n",
    "        pickle.dump(pca99,f)\n",
    "        \n",
    "with open(PIK, \"rb\") as f:\n",
    "    pca = pickle.load(f)\n",
    "    pca90 = pickle.load(f)\n",
    "    pca99 = pickle.load(f)\n",
    "f.close()\n",
    "    \n",
    "print(f\"90% of the variance is explained by {pca.n_components_} components (unwhitened)\")\n",
    "print(f\"90% of the variance is explained by {pca90.n_components_} components (whitened)\")\n",
    "print(f\"99% of the variance is explained by {pca99.n_components_} components\")\n",
    "explained_variance = np.cumsum(pca99.explained_variance_)/(np.sum(pca99.explained_variance_)*.99)\n",
    "plt.plot(np.arange(pca99.n_components_),explained_variance)\n",
    "plt.xlim(100,500);\n",
    "plt.ylim(0.8, 1);\n",
    "plt.title(f'99% of variance explained, npcs= {pca99.n_components_}')\n",
    "plt.xlabel('n_components');\n",
    "plt.ylabel('Explained Variance');    \n"
   ]
  },
  {
   "cell_type": "markdown",
   "id": "850087ce",
   "metadata": {},
   "source": [
    "90% of the variance it is with 160 features! It's a slowly increasing curve which is also slowing down, hitting 95% at 450. At 200 hundred features, 92.5% percent of the variance is explained - doesn't seem worth an extra forty features.\n",
    "\n",
    "Before doing this systematically, I was running with 150 components on images which were scaled down only 2x and the SVM performed pretty well on the cross validation. At 2x downscale, the size of the images did not allow for a full PCA. The number of pixels far outnumbered the number of training samples. The matrix was only full rank when images were scaled down to 5 times (in integers).  \n",
    "\n",
    "Next it's time pick the parameters of the SVM via grid search"
   ]
  },
  {
   "cell_type": "code",
   "execution_count": 12,
   "id": "466cda73",
   "metadata": {},
   "outputs": [],
   "source": [
    "# initiate pipeline with 160 features\n",
    "mypca = PCA(n_components=160, whiten=True, random_state= 42)\n",
    "mysvm = SVC(kernel='rbf', class_weight='balanced')\n",
    "model = make_pipeline(mypca, mysvm)"
   ]
  },
  {
   "cell_type": "code",
   "execution_count": 13,
   "id": "63634bf6",
   "metadata": {},
   "outputs": [
    {
     "name": "stdout",
     "output_type": "stream",
     "text": [
      "{'svc__C': 5, 'svc__gamma': 0.01}\n",
      "0.88443 (+/-0.00532) for {'svc__C': 1, 'svc__gamma': 0.0001}\n",
      "0.94476 (+/-0.00472) for {'svc__C': 1, 'svc__gamma': 0.0005}\n",
      "0.96400 (+/-0.00293) for {'svc__C': 1, 'svc__gamma': 0.001}\n",
      "0.99032 (+/-0.00033) for {'svc__C': 1, 'svc__gamma': 0.005}\n",
      "0.99280 (+/-0.00033) for {'svc__C': 1, 'svc__gamma': 0.01}\n",
      "0.75975 (+/-0.00769) for {'svc__C': 1, 'svc__gamma': 0.1}\n",
      "0.93884 (+/-0.00519) for {'svc__C': 5, 'svc__gamma': 0.0001}\n",
      "0.96987 (+/-0.00305) for {'svc__C': 5, 'svc__gamma': 0.0005}\n",
      "0.98076 (+/-0.00239) for {'svc__C': 5, 'svc__gamma': 0.001}\n",
      "0.99357 (+/-0.00031) for {'svc__C': 5, 'svc__gamma': 0.005}\n",
      "0.99388 (+/-0.00031) for {'svc__C': 5, 'svc__gamma': 0.01}\n",
      "0.78103 (+/-0.00678) for {'svc__C': 5, 'svc__gamma': 0.1}\n",
      "0.95190 (+/-0.00410) for {'svc__C': 10, 'svc__gamma': 0.0001}\n",
      "0.97477 (+/-0.00300) for {'svc__C': 10, 'svc__gamma': 0.0005}\n",
      "0.98477 (+/-0.00211) for {'svc__C': 10, 'svc__gamma': 0.001}\n",
      "0.99369 (+/-0.00042) for {'svc__C': 10, 'svc__gamma': 0.005}\n",
      "0.99388 (+/-0.00031) for {'svc__C': 10, 'svc__gamma': 0.01}\n",
      "0.78103 (+/-0.00678) for {'svc__C': 10, 'svc__gamma': 0.1}\n",
      "0.96662 (+/-0.00333) for {'svc__C': 50, 'svc__gamma': 0.0001}\n",
      "0.98293 (+/-0.00294) for {'svc__C': 50, 'svc__gamma': 0.0005}\n",
      "0.98821 (+/-0.00132) for {'svc__C': 50, 'svc__gamma': 0.001}\n",
      "0.99369 (+/-0.00042) for {'svc__C': 50, 'svc__gamma': 0.005}\n",
      "0.99388 (+/-0.00031) for {'svc__C': 50, 'svc__gamma': 0.01}\n",
      "0.78103 (+/-0.00678) for {'svc__C': 50, 'svc__gamma': 0.1}\n"
     ]
    }
   ],
   "source": [
    "if run_gridsearch:\n",
    "    param_grid = {'svc__C': [1, 5, 10, 50],\n",
    "              'svc__gamma': [0.0001, 0.0005, 0.001, 0.005, .01, .1]}\n",
    "    # Instantiate the grid search with the model and parameter grid\n",
    "    grid = GridSearchCV(estimator=model, param_grid=param_grid)\n",
    "    grid.fit(xtrain, ytrain)\n",
    "    with open(PIK2, \"wb\") as f:\n",
    "        pickle.dump(grid, f)\n",
    "\n",
    "with open(PIK2, \"rb\") as f:\n",
    "    grid = pickle.load(f)\n",
    "f.close\n",
    "\n",
    "print(grid.best_params_)\n",
    "#print(grid.cv_results_)\n",
    "\n",
    "means = grid.cv_results_['mean_test_score']\n",
    "stds = grid.cv_results_['std_test_score']\n",
    "for mean, std, param in zip(means, stds, grid.cv_results_['params']):\n",
    "    print(\"%0.5f (+/-%0.05f) for %r\"\n",
    "          % (mean, std, param))\n",
    "    # STILL WANNA PICK 0.99433 (+/-0.00037) for {'svc__C': 10, 'svc__gamma': 0.005} (SMALLER STD)"
   ]
  },
  {
   "cell_type": "markdown",
   "id": "b8ebce59",
   "metadata": {},
   "source": [
    "99.39% accuracy. This is similar to 99.49% accuracy using the 2x downscaled image with 150pcs. Maybe as good as this SVM may get? \n",
    "\n",
    "Let's fit the model and check the predictions of the cross validationset:"
   ]
  },
  {
   "cell_type": "code",
   "execution_count": null,
   "id": "71cd27e3",
   "metadata": {},
   "outputs": [],
   "source": [
    "# make model with chocen parameters\n",
    "mypca = PCA(n_components=160, whiten=True, random_state= 42)\n",
    "mysvm = SVC(C=5, gamma=0.01,kernel='rbf', class_weight='balanced')\n",
    "model = make_pipeline(mypca, mysvm)\n",
    "# fit the model to trianing data\n",
    "history = model.fit(xtrain, ytrain)"
   ]
  },
  {
   "cell_type": "code",
   "execution_count": 19,
   "id": "fb401cbe",
   "metadata": {},
   "outputs": [],
   "source": [
    "# predict cross validation set\n",
    "ypred_cv = model.predict(xcv)"
   ]
  },
  {
   "cell_type": "code",
   "execution_count": 23,
   "id": "63bdf26d",
   "metadata": {},
   "outputs": [
    {
     "name": "stdout",
     "output_type": "stream",
     "text": [
      "              precision    recall  f1-score   support\n",
      "\n",
      "           0       0.99      1.00      0.99       735\n",
      "           1       1.00      1.00      1.00       694\n",
      "           2       1.00      0.99      1.00       691\n",
      "           3       1.00      0.99      1.00       706\n",
      "           4       0.99      1.00      0.99       706\n",
      "           5       1.00      0.99      1.00       693\n",
      "           6       1.00      1.00      1.00       729\n",
      "           7       1.00      1.00      1.00       594\n",
      "           8       0.98      0.99      0.99       568\n",
      "           9       0.99      0.99      0.99       612\n",
      "\n",
      "    accuracy                           0.99      6728\n",
      "   macro avg       0.99      0.99      0.99      6728\n",
      "weighted avg       0.99      0.99      0.99      6728\n",
      "\n"
     ]
    }
   ],
   "source": [
    "print(classification_report(ycv, ypred_cv))"
   ]
  },
  {
   "cell_type": "markdown",
   "id": "ebf05052",
   "metadata": {},
   "source": [
    "### Let's see how the svm/pca model learns\n",
    "see also: [scikit learn example](https://scikit-learn.org/stable/auto_examples/model_selection/plot_learning_curve.html#sphx-glr-auto-examples-model-selection-plot-learning-curve-py)"
   ]
  },
  {
   "cell_type": "code",
   "execution_count": null,
   "id": "5f0bba5c",
   "metadata": {},
   "outputs": [],
   "source": [
    "mypca = PCA(n_components=160, whiten=True, random_state= 42)\n",
    "mysvm = SVC(C=5, gamma=0.01, kernel='rbf', class_weight='balanced')\n",
    "model = make_pipeline(mypca, mysvm)\n",
    "\n",
    "if computeLearningCurve: \n",
    "    train_sizes, train_scores, test_scores, fit_times, _ = \\\n",
    "        learning_curve(model, xtrain, ytrain, n_jobs=-1,\n",
    "                       train_sizes=[0.01, 0.05, 0.1, 0.325, 0.55 , 0.6, 0.775, 1.],\n",
    "                       return_times=True, random_state=0, shuffle='')\n",
    "    with open(PIK_learning, \"wb\") as f:\n",
    "        pickle.dump(train_sizes, f)\n",
    "        pickle.dump(train_scores, f)\n",
    "        pickle.dump(test_scores, f)\n",
    "        pickle.dump(fit_times,f)\n",
    "\n",
    "with open(PIK_learning, \"rb\") as f:\n",
    "    train_sizes = pickle.load(f)\n",
    "    train_scores = pickle.load(f)\n",
    "    test_scores = pickle.load(f)\n",
    "    fit_times = pickle.load(f)\n",
    "f.close()\n",
    "\n"
   ]
  },
  {
   "cell_type": "code",
   "execution_count": null,
   "id": "8aabfee8",
   "metadata": {},
   "outputs": [],
   "source": [
    "plt.plot(train_sizes,train_scores);\n",
    "plt.plot(train_sizes,test_scores);\n",
    "plt.xlabel('m');\n",
    "plt.title('Learning Curve: Cross Validation on the Training Data');"
   ]
  },
  {
   "cell_type": "markdown",
   "id": "2e8b6756",
   "metadata": {},
   "source": []
  },
  {
   "cell_type": "markdown",
   "id": "3df4b7ef",
   "metadata": {},
   "source": [
    "Next, I'll be feeding in the whole training dataset X, instead of xtrain and have learning_curve do the cross validation as well. "
   ]
  },
  {
   "cell_type": "code",
   "execution_count": null,
   "id": "33f1f665",
   "metadata": {},
   "outputs": [],
   "source": []
  }
 ],
 "metadata": {
  "kernelspec": {
   "display_name": "fourthbrain",
   "language": "python",
   "name": "fourthbrain"
  },
  "language_info": {
   "codemirror_mode": {
    "name": "ipython",
    "version": 3
   },
   "file_extension": ".py",
   "mimetype": "text/x-python",
   "name": "python",
   "nbconvert_exporter": "python",
   "pygments_lexer": "ipython3",
   "version": "3.9.6"
  }
 },
 "nbformat": 4,
 "nbformat_minor": 5
}
